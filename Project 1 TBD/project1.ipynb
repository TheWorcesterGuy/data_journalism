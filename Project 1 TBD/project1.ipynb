{
 "cells": [
  {
   "cell_type": "code",
   "execution_count": null,
   "metadata": {},
   "outputs": [],
   "source": [
    "import os\n",
    "import requests\n",
    "import pandas as pd\n",
    "\n",
    "# Your ACLED API credentials\n",
    "API_KEY = \"your_api_key\"\n",
    "EMAIL = \"christian.s.wilkinson@gmail.com\"\n",
    "\n",
    "# Folder to save data\n",
    "SAVE_DIR = \"../data/ACLED\"\n",
    "os.makedirs(SAVE_DIR, exist_ok=True)\n",
    "\n",
    "# Base URL for the ACLED API\n",
    "BASE_URL = \"https://api.acleddata.com/acled/read\"\n",
    "\n",
    "# Define query parameters (customize as needed)\n",
    "params = {\n",
    "    \"key\": API_KEY,\n",
    "    \"email\": EMAIL,\n",
    "    \"country\": \"Sudan\",\n",
    "    \"year\": 2024,\n",
    "    \"limit\": 1000,           # Get 1000 rows (you can paginate or increase)\n",
    "    \"fields\": \"event_date|event_type|actor1|country|fatalities|location\"\n",
    "}\n",
    "\n",
    "# Make GET request\n",
    "response = requests.get(BASE_URL, params=params)\n",
    "if response.status_code == 200:\n",
    "    data = response.json()\n",
    "    records = data.get(\"data\", [])\n",
    "    df = pd.DataFrame(records)\n",
    "\n",
    "    # Save to CSV\n",
    "    output_path = os.path.join(SAVE_DIR, \"acled_sudan_2024.csv\")\n",
    "    df.to_csv(output_path, index=False)\n",
    "    print(f\"Saved {len(df)} records to: {output_path}\")\n",
    "else:\n",
    "    print(f\"Request failed: {response.status_code}\")\n",
    "    print(response.text)\n"
   ]
  },
  {
   "cell_type": "code",
   "execution_count": null,
   "metadata": {},
   "outputs": [],
   "source": []
  }
 ],
 "metadata": {
  "language_info": {
   "name": "python"
  }
 },
 "nbformat": 4,
 "nbformat_minor": 2
}
